{
 "cells": [
  {
   "cell_type": "markdown",
   "metadata": {},
   "source": [
    "# **Seven Top Survival Skills**\n",
    "\n",
    "## **Necessary for 21st Century work**\n",
    "\n",
    "What do these people look for in employees?\n",
    "\n",
    "- A senior vice president at Cisco\n",
    "- A HR manager for Unilever Foods North America\n",
    "- The global talent manager for Dell\n",
    "\n",
    "\n",
    "###  **Here is the list:** \n",
    "1. **Collaboration** across groups\n",
    " <br>\n",
    "    _Senior vice president, Cisco_ \n",
    "2. **Initiative** and entrepreneurship\n",
    " <br>\n",
    "    _Human resource manager, Unilever Foods North America_ \n",
    "3. Accessing and **analyzing** information\n",
    " <br>\n",
    "    _Global talent manager, Dell_ \n",
    "4. Critical **thinking** and problem solving\n",
    " <br>\n",
    "    _Consultant to Fortune 200 companies_  \n",
    "5. Curiousity and **imagination** \n",
    " <br>\n",
    "    _Senior Consultant. McKinsey & Company_  \n",
    "6. Agility and **adaptability** \n",
    " <br>\n",
    "    _Presidet-Chemical Management, BOC Edwards_  \n",
    "7. Effective **Written** and oral communication \n",
    " <br>\n",
    "   _Vice president for talent management, Cisco_  \n",
    "\n",
    "\n",
    "From _The Global Achievement Gap_ , by Dr. Tony Wagner, expert in Residence, Innovation Lab,\n",
    "<br>\n",
    "Harvard University\n"
   ]
  },
  {
   "cell_type": "code",
   "execution_count": null,
   "metadata": {
    "collapsed": true
   },
   "outputs": [],
   "source": []
  },
  {
   "cell_type": "code",
   "execution_count": null,
   "metadata": {
    "collapsed": true
   },
   "outputs": [],
   "source": []
  }
 ],
 "metadata": {
  "kernelspec": {
   "display_name": "Python 3",
   "language": "python",
   "name": "python3"
  },
  "language_info": {
   "codemirror_mode": {
    "name": "ipython",
    "version": 3
   },
   "file_extension": ".py",
   "mimetype": "text/x-python",
   "name": "python",
   "nbconvert_exporter": "python",
   "pygments_lexer": "ipython3",
   "version": "3.4.3"
  }
 },
 "nbformat": 4,
 "nbformat_minor": 0
}
